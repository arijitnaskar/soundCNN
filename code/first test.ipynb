{
 "cells": [
  {
   "cell_type": "code",
   "execution_count": 1,
   "metadata": {},
   "outputs": [
    {
     "name": "stdout",
     "output_type": "stream",
     "text": [
      "Frequency sampling 44100\n",
      "Channels 2\n",
      "Complete Samplings N 335160\n",
      "secs 7.6\n",
      "Timestep between samples Ts 2.2675736961451248e-05\n"
     ]
    },
    {
     "data": {
      "text/plain": [
       "<Figure size 640x480 with 3 Axes>"
      ]
     },
     "metadata": {},
     "output_type": "display_data"
    }
   ],
   "source": [
    "from __future__ import print_function\n",
    "import scipy.io.wavfile as wavfile\n",
    "import scipy\n",
    "import scipy.fftpack\n",
    "import numpy as np\n",
    "from matplotlib import pyplot as plt\n",
    "\n",
    "fs_rate, signal = wavfile.read(\"/home/arijit/Desktop/MBJ1.wav\")\n",
    "print (\"Frequency sampling\", fs_rate)\n",
    "l_audio = len(signal.shape)\n",
    "print (\"Channels\", l_audio)\n",
    "if l_audio == 2:\n",
    "    signal = signal.sum(axis=1) / 2\n",
    "N = signal.shape[0]\n",
    "print (\"Complete Samplings N\", N)\n",
    "secs = N / float(fs_rate)\n",
    "print (\"secs\", secs)\n",
    "Ts = 1.0/fs_rate # sampling interval in time\n",
    "print (\"Timestep between samples Ts\", Ts)\n",
    "t = scipy.arange(0, secs, Ts) # time vector as scipy arange field / numpy.ndarray\n",
    "FFT = abs(scipy.fft(signal))\n",
    "FFT_side = FFT[range(N//2)] # one side FFT range\n",
    "freqs = scipy.fftpack.fftfreq(signal.size, t[1]-t[0])\n",
    "fft_freqs = np.array(freqs)\n",
    "freqs_side = freqs[range(N//2)] # one side frequency range\n",
    "fft_freqs_side = np.array(freqs_side)\n",
    "plt.subplot(311)\n",
    "p1 = plt.plot(t, signal, \"g\") # plotting the signal\n",
    "plt.xlabel('Time')\n",
    "plt.ylabel('Amplitude')\n",
    "plt.subplot(312)\n",
    "p2 = plt.plot(freqs, FFT, \"r\") # plotting the complete fft spectrum\n",
    "plt.xlabel('Frequency (Hz)')\n",
    "plt.ylabel('Count dbl-sided')\n",
    "plt.subplot(313)\n",
    "p3 = plt.plot(freqs_side, abs(FFT_side), \"b\") # plotting the positive fft spectrum\n",
    "plt.xlabel('Frequency (Hz)')\n",
    "plt.ylabel('Count single-sided')\n",
    "plt.show()\n",
    "\n",
    "plt.show()\n"
   ]
  },
  {
   "cell_type": "code",
   "execution_count": 2,
   "metadata": {},
   "outputs": [
    {
     "name": "stdout",
     "output_type": "stream",
     "text": [
      "asd\n"
     ]
    }
   ],
   "source": [
    "print(\"asd\")"
   ]
  },
  {
   "cell_type": "code",
   "execution_count": null,
   "metadata": {},
   "outputs": [],
   "source": []
  }
 ],
 "metadata": {
  "kernelspec": {
   "display_name": "Python 3",
   "language": "python",
   "name": "python3"
  },
  "language_info": {
   "codemirror_mode": {
    "name": "ipython",
    "version": 3
   },
   "file_extension": ".py",
   "mimetype": "text/x-python",
   "name": "python",
   "nbconvert_exporter": "python",
   "pygments_lexer": "ipython3",
   "version": "3.6.6"
  }
 },
 "nbformat": 4,
 "nbformat_minor": 2
}
